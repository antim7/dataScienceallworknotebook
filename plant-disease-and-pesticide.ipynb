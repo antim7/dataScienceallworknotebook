{
 "cells": [
  {
   "cell_type": "markdown",
   "metadata": {
    "_cell_guid": "f4c437fd-575d-4edf-889f-11f1d4ef9d70",
    "_uuid": "18e69902-9a7a-4175-bd34-10956dd9c23c"
   },
   "source": [
    "Import neccessary packages"
   ]
  },
  {
   "cell_type": "code",
   "execution_count": 1,
   "metadata": {
    "_cell_guid": "4d75b9b8-64b2-4872-afd0-131a84e192b3",
    "_uuid": "8000e74c-9ba4-47ed-b104-999b68e54c79",
    "execution": {
     "iopub.execute_input": "2023-09-30T04:59:20.734348Z",
     "iopub.status.busy": "2023-09-30T04:59:20.734084Z",
     "iopub.status.idle": "2023-09-30T04:59:21.696408Z",
     "shell.execute_reply": "2023-09-30T04:59:21.695513Z",
     "shell.execute_reply.started": "2023-09-30T04:59:20.734294Z"
    },
    "jupyter": {
     "outputs_hidden": false
    }
   },
   "outputs": [
    {
     "ename": "ModuleNotFoundError",
     "evalue": "No module named 'keras.layers.normalization'",
     "output_type": "error",
     "traceback": [
      "\u001b[1;31m---------------------------------------------------------------------------\u001b[0m",
      "\u001b[1;31mModuleNotFoundError\u001b[0m                       Traceback (most recent call last)",
      "\u001b[1;32m~\\AppData\\Local\\Temp\\ipykernel_7880\\1119980745.py\u001b[0m in \u001b[0;36m<module>\u001b[1;34m\u001b[0m\n\u001b[0;32m      9\u001b[0m \u001b[1;32mfrom\u001b[0m \u001b[0mkeras\u001b[0m\u001b[1;33m.\u001b[0m\u001b[0mmodels\u001b[0m \u001b[1;32mimport\u001b[0m \u001b[0mSequential\u001b[0m\u001b[1;33m\u001b[0m\u001b[1;33m\u001b[0m\u001b[0m\n\u001b[0;32m     10\u001b[0m \u001b[1;31m# from tf.keras.layers import BatchNormalization\u001b[0m\u001b[1;33m\u001b[0m\u001b[1;33m\u001b[0m\u001b[0m\n\u001b[1;32m---> 11\u001b[1;33m \u001b[1;32mfrom\u001b[0m \u001b[0mkeras\u001b[0m\u001b[1;33m.\u001b[0m\u001b[0mlayers\u001b[0m\u001b[1;33m.\u001b[0m\u001b[0mnormalization\u001b[0m \u001b[1;32mimport\u001b[0m \u001b[0mBatchNormalization\u001b[0m\u001b[1;33m\u001b[0m\u001b[1;33m\u001b[0m\u001b[0m\n\u001b[0m\u001b[0;32m     12\u001b[0m \u001b[1;32mfrom\u001b[0m \u001b[0mkeras\u001b[0m\u001b[1;33m.\u001b[0m\u001b[0mlayers\u001b[0m\u001b[1;33m.\u001b[0m\u001b[0mconvolutional\u001b[0m \u001b[1;32mimport\u001b[0m \u001b[0mConv2D\u001b[0m\u001b[1;33m,\u001b[0m\u001b[0mConv3D\u001b[0m\u001b[1;33m\u001b[0m\u001b[1;33m\u001b[0m\u001b[0m\n\u001b[0;32m     13\u001b[0m \u001b[1;32mfrom\u001b[0m \u001b[0mkeras\u001b[0m\u001b[1;33m.\u001b[0m\u001b[0mlayers\u001b[0m\u001b[1;33m.\u001b[0m\u001b[0mconvolutional\u001b[0m \u001b[1;32mimport\u001b[0m \u001b[0mMaxPooling2D\u001b[0m\u001b[1;33m,\u001b[0m \u001b[0mMaxPooling2D\u001b[0m\u001b[1;33m\u001b[0m\u001b[1;33m\u001b[0m\u001b[0m\n",
      "\u001b[1;31mModuleNotFoundError\u001b[0m: No module named 'keras.layers.normalization'"
     ]
    }
   ],
   "source": [
    "import numpy as np\n",
    "import tensorflow as tf\n",
    "import pickle\n",
    "import cv2\n",
    "import os\n",
    "os.environ[\"CUDA_VISIBLE_DEVICES\"]=\"0\"\n",
    "from os import listdir\n",
    "from sklearn.preprocessing import LabelBinarizer\n",
    "from keras.models import Sequential\n",
    "# from tf.keras.layers import BatchNormalization\n",
    "from keras.layers.normalization import BatchNormalization\n",
    "from keras.layers.convolutional import Conv2D,Conv3D\n",
    "from keras.layers.convolutional import MaxPooling2D, MaxPooling2D\n",
    "from keras.layers.core import Activation, Flatten, Dropout, Dense\n",
    "from keras import backend as K\n",
    "from keras.preprocessing.image import ImageDataGenerator\n",
    "from keras.optimizers import Adam\n",
    "from keras.preprocessing import image\n",
    "from keras.preprocessing.image import img_to_array\n",
    "from sklearn.preprocessing import MultiLabelBinarizer\n",
    "from sklearn.model_selection import train_test_split\n",
    "import matplotlib.pyplot as plt"
   ]
  },
  {
   "cell_type": "code",
   "execution_count": 2,
   "metadata": {
    "_cell_guid": "0cb477b6-1490-43d1-a5d4-88b299f74d5d",
    "_uuid": "2d233c92-2e92-42db-a1a2-01e97b4b6c8d",
    "execution": {
     "iopub.execute_input": "2023-09-30T04:59:21.698003Z",
     "iopub.status.busy": "2023-09-30T04:59:21.697820Z",
     "iopub.status.idle": "2023-09-30T04:59:21.703122Z",
     "shell.execute_reply": "2023-09-30T04:59:21.702002Z",
     "shell.execute_reply.started": "2023-09-30T04:59:21.697975Z"
    },
    "jupyter": {
     "outputs_hidden": false
    }
   },
   "outputs": [],
   "source": [
    "EPOCHS = 50\n",
    "INIT_LR = 1e-3 #0.0003\n",
    "BS = 32\n",
    "default_image_size = tuple((256, 256))\n",
    "image_size = 0\n",
    "directory_root = '../input/plantvillage/'\n",
    "width=256\n",
    "height=256\n",
    "depth=3"
   ]
  },
  {
   "cell_type": "markdown",
   "metadata": {
    "_cell_guid": "f9626470-9a44-4756-aedb-f51ae8f83d7b",
    "_uuid": "e4ccc51f-3daf-4e4f-88dd-179a34370424"
   },
   "source": [
    "Function to convert images to array"
   ]
  },
  {
   "cell_type": "code",
   "execution_count": 3,
   "metadata": {
    "_cell_guid": "994a61bd-3a83-4e10-9d8f-3ff157ff55a9",
    "_uuid": "47eb4daf-bd1b-4532-bf01-b75af507b58b",
    "execution": {
     "iopub.execute_input": "2023-09-30T04:59:21.705778Z",
     "iopub.status.busy": "2023-09-30T04:59:21.705462Z",
     "iopub.status.idle": "2023-09-30T04:59:21.716558Z",
     "shell.execute_reply": "2023-09-30T04:59:21.715345Z",
     "shell.execute_reply.started": "2023-09-30T04:59:21.705721Z"
    },
    "jupyter": {
     "outputs_hidden": false
    }
   },
   "outputs": [],
   "source": [
    "def convert_image_to_array(image_dir):\n",
    "    try:\n",
    "        image = cv2.imread(image_dir)\n",
    "        if image is not None :\n",
    "            image = cv2.resize(image, default_image_size)   \n",
    "            return img_to_array(image)\n",
    "        else :\n",
    "            return np.array([])\n",
    "    except Exception as e:\n",
    "        print(f\"Error : {e}\")\n",
    "        return None"
   ]
  },
  {
   "cell_type": "markdown",
   "metadata": {
    "_cell_guid": "8bfec339-ab39-4bab-a399-bb8f29f0fdc0",
    "_uuid": "a91a2698-b02e-402e-8989-d15ca1a12d35"
   },
   "source": [
    "Fetch images from directory"
   ]
  },
  {
   "cell_type": "code",
   "execution_count": 4,
   "metadata": {
    "_cell_guid": "6247ac13-de96-457a-b035-d41d265a2e9a",
    "_uuid": "07af39b5-86f5-4606-81f1-fc620d23216a",
    "execution": {
     "iopub.execute_input": "2023-09-30T04:59:21.718865Z",
     "iopub.status.busy": "2023-09-30T04:59:21.718630Z",
     "iopub.status.idle": "2023-09-30T04:59:29.254366Z",
     "shell.execute_reply": "2023-09-30T04:59:29.253144Z",
     "shell.execute_reply.started": "2023-09-30T04:59:21.718817Z"
    },
    "jupyter": {
     "outputs_hidden": false
    }
   },
   "outputs": [
    {
     "name": "stdout",
     "output_type": "stream",
     "text": [
      "[INFO] Loading images ...\n",
      "['PlantVillage']\n",
      "PlantVillage\n",
      "removed\n",
      "[INFO] Processing Tomato_Bacterial_spot ...\n",
      "[INFO] Processing Tomato_Septoria_leaf_spot ...\n",
      "[INFO] Processing Tomato_healthy ...\n",
      "[INFO] Processing Tomato__Target_Spot ...\n",
      "[INFO] Image loading completed\n"
     ]
    }
   ],
   "source": [
    "image_list, label_list = [], []\n",
    "try:\n",
    "    print(\"[INFO] Loading images ...\")\n",
    "    root_dir = listdir(directory_root)\n",
    "    print(root_dir)\n",
    "    \n",
    "    for directory in root_dir :\n",
    "        # remove .DS_Store from list\n",
    "        if directory == \".DS_Store\" :\n",
    "            root_dir.remove(directory)\n",
    "        \n",
    "    \n",
    "    for plant_folder in root_dir :\n",
    "        print(plant_folder)\n",
    "        plant_disease_folder_list = listdir(f\"{directory_root}/{plant_folder}\")\n",
    "        plant_disease_folder_list.remove(\"Potato___Early_blight\")\n",
    "        plant_disease_folder_list.remove(\"Potato___Late_blight\")\n",
    "        plant_disease_folder_list.remove(\"Potato___healthy\")\n",
    "        plant_disease_folder_list.remove(\"Tomato_Early_blight\")\n",
    "        \n",
    "        plant_disease_folder_list.remove(\"Tomato_Late_blight\")\n",
    "        plant_disease_folder_list.remove(\"Pepper__bell___healthy\")\n",
    "        plant_disease_folder_list.remove(\"Tomato__Tomato_mosaic_virus\")\n",
    "        \n",
    "        plant_disease_folder_list.remove(\"Tomato_Leaf_Mold\")\n",
    "        plant_disease_folder_list.remove(\"Tomato_Spider_mites_Two_spotted_spider_mite\")\n",
    "        plant_disease_folder_list.remove(\"Tomato__Tomato_YellowLeaf__Curl_Virus\")\n",
    "        plant_disease_folder_list.remove(\"Pepper__bell___Bacterial_spot\")\n",
    "        \n",
    "        print(\"removed\")\n",
    "        for disease_folder in plant_disease_folder_list :\n",
    "            # remove .DS_Store from list\n",
    "            if disease_folder == \".DS_Store\" :\n",
    "                plant_disease_folder_list.remove(disease_folder)\n",
    "\n",
    "        for plant_disease_folder in plant_disease_folder_list:\n",
    "            print(f\"[INFO] Processing {plant_disease_folder} ...\")\n",
    "            plant_disease_image_list = listdir(f\"{directory_root}/{plant_folder}/{plant_disease_folder}/\")\n",
    "                \n",
    "            for single_plant_disease_image in plant_disease_image_list :\n",
    "                if single_plant_disease_image == \".DS_Store\" :\n",
    "                    plant_disease_image_list.remove(single_plant_disease_image)\n",
    "\n",
    "            for image in plant_disease_image_list[:200]:\n",
    "                image_directory = f\"{directory_root}/{plant_folder}/{plant_disease_folder}/{image}\"\n",
    "                if image_directory.endswith(\".jpg\") == True or image_directory.endswith(\".JPG\") == True:\n",
    "                    image_list.append(convert_image_to_array(image_directory))\n",
    "                    label_list.append(plant_disease_folder)\n",
    "    print(\"[INFO] Image loading completed\")  \n",
    "except Exception as e:\n",
    "    print(f\"Error : {e}\")"
   ]
  },
  {
   "cell_type": "markdown",
   "metadata": {
    "_cell_guid": "eec5415f-2725-4e13-b7f4-afeec6f04918",
    "_uuid": "e33241b3-30f0-4e6e-85d4-f6a156cf8347"
   },
   "source": [
    "Get Size of Processed Image"
   ]
  },
  {
   "cell_type": "code",
   "execution_count": 5,
   "metadata": {
    "_cell_guid": "059a1f0f-de0f-454d-a825-e81f676da8f5",
    "_uuid": "ba9a73c9-e604-44af-8d80-fe36e3cadaf8",
    "execution": {
     "iopub.execute_input": "2023-09-30T04:59:29.255391Z",
     "iopub.status.busy": "2023-09-30T04:59:29.255183Z",
     "iopub.status.idle": "2023-09-30T04:59:29.259886Z",
     "shell.execute_reply": "2023-09-30T04:59:29.258618Z",
     "shell.execute_reply.started": "2023-09-30T04:59:29.255352Z"
    },
    "jupyter": {
     "outputs_hidden": false
    }
   },
   "outputs": [],
   "source": [
    "image_size = len(image_list)"
   ]
  },
  {
   "cell_type": "markdown",
   "metadata": {
    "_cell_guid": "37f57a8d-091b-4103-97e7-9bac37fe3d98",
    "_uuid": "f3d16c03-cdf8-4057-a921-ea39a6141526"
   },
   "source": [
    "Transform Image Labels uisng [Scikit Learn](http://scikit-learn.org/)'s LabelBinarizer"
   ]
  },
  {
   "cell_type": "code",
   "execution_count": 6,
   "metadata": {
    "_cell_guid": "e65c4165-5e79-4aa2-8871-19cc7f3c1bbb",
    "_uuid": "e46a9bbb-838a-4255-95c3-c3453da3262c",
    "execution": {
     "iopub.execute_input": "2023-09-30T04:59:29.261487Z",
     "iopub.status.busy": "2023-09-30T04:59:29.261111Z",
     "iopub.status.idle": "2023-09-30T04:59:29.276286Z",
     "shell.execute_reply": "2023-09-30T04:59:29.275042Z",
     "shell.execute_reply.started": "2023-09-30T04:59:29.261416Z"
    },
    "jupyter": {
     "outputs_hidden": false
    }
   },
   "outputs": [],
   "source": [
    "label_binarizer = LabelBinarizer()\n",
    "image_labels = label_binarizer.fit_transform(label_list)\n",
    "pickle.dump(label_binarizer,open('label_transform.pkl', 'wb'))\n",
    "n_classes = len(label_binarizer.classes_)"
   ]
  },
  {
   "cell_type": "markdown",
   "metadata": {
    "_cell_guid": "ea0af9a5-7702-4029-8381-c599257ef865",
    "_uuid": "18d1c3bc-cd6a-45c7-99b1-eeadcee2427b"
   },
   "source": [
    "Print the classes"
   ]
  },
  {
   "cell_type": "code",
   "execution_count": 7,
   "metadata": {
    "_cell_guid": "c6be8f3c-bf0d-48d9-8972-cdfa5c9d8769",
    "_uuid": "e394a469-c588-409c-8c0c-785816498e6d",
    "execution": {
     "iopub.execute_input": "2023-09-30T04:59:29.277447Z",
     "iopub.status.busy": "2023-09-30T04:59:29.277183Z",
     "iopub.status.idle": "2023-09-30T04:59:29.288077Z",
     "shell.execute_reply": "2023-09-30T04:59:29.286945Z",
     "shell.execute_reply.started": "2023-09-30T04:59:29.277407Z"
    },
    "jupyter": {
     "outputs_hidden": false
    }
   },
   "outputs": [
    {
     "name": "stdout",
     "output_type": "stream",
     "text": [
      "['Tomato_Bacterial_spot' 'Tomato_Septoria_leaf_spot' 'Tomato__Target_Spot'\n",
      " 'Tomato_healthy']\n"
     ]
    }
   ],
   "source": [
    "print(label_binarizer.classes_)"
   ]
  },
  {
   "cell_type": "code",
   "execution_count": 8,
   "metadata": {
    "_cell_guid": "2e198101-ad88-4cb9-9715-dabd7065fc4e",
    "_uuid": "925455f0-94cf-4980-952f-dc49c9268b2e",
    "execution": {
     "iopub.execute_input": "2023-09-30T04:59:29.289327Z",
     "iopub.status.busy": "2023-09-30T04:59:29.289054Z",
     "iopub.status.idle": "2023-09-30T04:59:31.653855Z",
     "shell.execute_reply": "2023-09-30T04:59:31.652725Z",
     "shell.execute_reply.started": "2023-09-30T04:59:29.289278Z"
    },
    "jupyter": {
     "outputs_hidden": false
    }
   },
   "outputs": [],
   "source": [
    "np_image_list = np.array(image_list, dtype=np.float16) / 225.0"
   ]
  },
  {
   "cell_type": "code",
   "execution_count": 9,
   "metadata": {
    "_cell_guid": "c8975bce-66c2-49cf-960d-996913de7df9",
    "_uuid": "302aafb0-9bb2-4ffc-9457-4df077c6b2e2",
    "execution": {
     "iopub.execute_input": "2023-09-30T04:59:31.654927Z",
     "iopub.status.busy": "2023-09-30T04:59:31.654713Z",
     "iopub.status.idle": "2023-09-30T04:59:31.785872Z",
     "shell.execute_reply": "2023-09-30T04:59:31.784530Z",
     "shell.execute_reply.started": "2023-09-30T04:59:31.654876Z"
    },
    "jupyter": {
     "outputs_hidden": false
    }
   },
   "outputs": [
    {
     "name": "stdout",
     "output_type": "stream",
     "text": [
      "[INFO] Spliting data to train, test\n"
     ]
    }
   ],
   "source": [
    "print(\"[INFO] Spliting data to train, test\")\n",
    "x_train, x_test, y_train, y_test = train_test_split(np_image_list, image_labels, test_size=0.2, random_state = 42)"
   ]
  },
  {
   "cell_type": "code",
   "execution_count": 10,
   "metadata": {
    "_cell_guid": "f60394d3-7d1a-4505-9ba0-1ea18381e18e",
    "_uuid": "5b4b77b0-ede0-46ec-8e73-4f43fcf077d0",
    "execution": {
     "iopub.execute_input": "2023-09-30T04:59:31.787040Z",
     "iopub.status.busy": "2023-09-30T04:59:31.786808Z",
     "iopub.status.idle": "2023-09-30T04:59:31.791736Z",
     "shell.execute_reply": "2023-09-30T04:59:31.790522Z",
     "shell.execute_reply.started": "2023-09-30T04:59:31.786994Z"
    },
    "jupyter": {
     "outputs_hidden": false
    }
   },
   "outputs": [],
   "source": [
    "aug = ImageDataGenerator(\n",
    "    rotation_range=25, width_shift_range=0.1,\n",
    "    height_shift_range=0.1, shear_range=0.2, \n",
    "    zoom_range=0.2,horizontal_flip=True, \n",
    "    fill_mode=\"nearest\")"
   ]
  },
  {
   "cell_type": "code",
   "execution_count": 11,
   "metadata": {
    "_cell_guid": "8f00381a-a540-4886-a9c7-2554a6cacf59",
    "_uuid": "7566129b-2160-432d-ac0c-aaf807230830",
    "execution": {
     "iopub.execute_input": "2023-09-30T04:59:31.795742Z",
     "iopub.status.busy": "2023-09-30T04:59:31.795467Z",
     "iopub.status.idle": "2023-09-30T04:59:32.388187Z",
     "shell.execute_reply": "2023-09-30T04:59:32.387150Z",
     "shell.execute_reply.started": "2023-09-30T04:59:31.795702Z"
    },
    "jupyter": {
     "outputs_hidden": false
    }
   },
   "outputs": [],
   "source": [
    "model = Sequential()\n",
    "inputShape = (height, width, depth)\n",
    "chanDim = -1\n",
    "if K.image_data_format() == \"channels_first\":\n",
    "    inputShape = (depth, height, width)\n",
    "    chanDim = 1\n",
    "model.add(Conv2D(32, (3, 3), padding=\"same\",input_shape=inputShape))\n",
    "model.add(Activation(\"relu\"))\n",
    "model.add(BatchNormalization(axis=chanDim))\n",
    "model.add(MaxPooling2D(pool_size=(3, 3)))\n",
    "model.add(Dropout(0.25))\n",
    "model.add(Conv2D(64, (3, 3), padding=\"same\"))\n",
    "model.add(Activation(\"relu\"))\n",
    "model.add(BatchNormalization(axis=chanDim))\n",
    "model.add(Conv2D(64, (3, 3), padding=\"same\"))\n",
    "model.add(Activation(\"relu\"))\n",
    "model.add(BatchNormalization(axis=chanDim))\n",
    "model.add(MaxPooling2D(pool_size=(2, 2)))\n",
    "#model.add(Dropout(0.25))\n",
    "model.add(Conv2D(32, (3, 3), padding=\"same\"))\n",
    "model.add(Activation(\"relu\"))\n",
    "model.add(BatchNormalization(axis=chanDim))\n",
    "model.add(Conv2D(16, (3, 3), padding=\"same\"))\n",
    "model.add(Activation(\"relu\"))\n",
    "model.add(BatchNormalization(axis=chanDim))\n",
    "model.add(MaxPooling2D(pool_size=(2, 2)))\n",
    "#model.add(Dropout(0.25))\n",
    "model.add(Flatten())\n",
    "model.add(Dense(8))\n",
    "model.add(Activation(\"relu\"))\n",
    "model.add(BatchNormalization())\n",
    "model.add(Dropout(0.1))\n",
    "model.add(Dense(n_classes))\n",
    "model.add(Activation(\"softmax\"))"
   ]
  },
  {
   "cell_type": "markdown",
   "metadata": {
    "_cell_guid": "6fef7757-5830-47cf-8fbe-add8fe5bc517",
    "_uuid": "47f86cc4-4d64-477a-ada0-9bb768fe7985"
   },
   "source": [
    "Model Summary"
   ]
  },
  {
   "cell_type": "code",
   "execution_count": null,
   "metadata": {
    "_cell_guid": "cda81668-1e38-4b68-95c9-191565d95cfa",
    "_uuid": "a900e8d8-306c-4693-9f66-212a904dae8f",
    "execution": {
     "iopub.execute_input": "2023-09-30T04:59:32.389513Z",
     "iopub.status.busy": "2023-09-30T04:59:32.389326Z",
     "iopub.status.idle": "2023-09-30T04:59:32.397247Z"
    },
    "jupyter": {
     "outputs_hidden": false
    }
   },
   "outputs": [
    {
     "name": "stdout",
     "output_type": "stream",
     "text": [
      "_________________________________________________________________\n",
      "Layer (type)                 Output Shape              Param #   \n",
      "=================================================================\n",
      "conv2d_1 (Conv2D)            (None, 256, 256, 32)      896       \n",
      "_________________________________________________________________\n",
      "activation_1 (Activation)    (None, 256, 256, 32)      0         \n",
      "_________________________________________________________________\n",
      "batch_normalization_1 (Batch (None, 256, 256, 32)      128       \n",
      "_________________________________________________________________\n",
      "max_pooling2d_1 (MaxPooling2 (None, 85, 85, 32)        0         \n",
      "_________________________________________________________________\n",
      "dropout_1 (Dropout)          (None, 85, 85, 32)        0         \n",
      "_________________________________________________________________\n",
      "conv2d_2 (Conv2D)            (None, 85, 85, 64)        18496     \n",
      "_________________________________________________________________\n",
      "activation_2 (Activation)    (None, 85, 85, 64)        0         \n",
      "_________________________________________________________________\n",
      "batch_normalization_2 (Batch (None, 85, 85, 64)        256       \n",
      "_________________________________________________________________\n",
      "conv2d_3 (Conv2D)            (None, 85, 85, 64)        36928     \n",
      "_________________________________________________________________\n",
      "activation_3 (Activation)    (None, 85, 85, 64)        0         \n",
      "_________________________________________________________________\n",
      "batch_normalization_3 (Batch (None, 85, 85, 64)        256       \n",
      "_________________________________________________________________\n",
      "max_pooling2d_2 (MaxPooling2 (None, 42, 42, 64)        0         \n",
      "_________________________________________________________________\n",
      "conv2d_4 (Conv2D)            (None, 42, 42, 32)        18464     \n",
      "_________________________________________________________________\n",
      "activation_4 (Activation)    (None, 42, 42, 32)        0         \n",
      "_________________________________________________________________\n",
      "batch_normalization_4 (Batch (None, 42, 42, 32)        128       \n",
      "_________________________________________________________________\n",
      "conv2d_5 (Conv2D)            (None, 42, 42, 16)        4624      \n",
      "_________________________________________________________________\n",
      "activation_5 (Activation)    (None, 42, 42, 16)        0         \n",
      "_________________________________________________________________\n",
      "batch_normalization_5 (Batch (None, 42, 42, 16)        64        \n",
      "_________________________________________________________________\n",
      "max_pooling2d_3 (MaxPooling2 (None, 21, 21, 16)        0         \n",
      "_________________________________________________________________\n",
      "flatten_1 (Flatten)          (None, 7056)              0         \n",
      "_________________________________________________________________\n",
      "dense_1 (Dense)              (None, 8)                 56456     \n",
      "_________________________________________________________________\n",
      "activation_6 (Activation)    (None, 8)                 0         \n",
      "_________________________________________________________________\n",
      "batch_normalization_6 (Batch (None, 8)                 32        \n",
      "_________________________________________________________________\n",
      "dropout_2 (Dropout)          (None, 8)                 0         \n",
      "_________________________________________________________________\n",
      "dense_2 (Dense)              (None, 4)                 36        \n",
      "_________________________________________________________________\n",
      "activation_7 (Activation)    (None, 4)                 0         \n",
      "=================================================================\n",
      "Total params: 136,764\n",
      "Trainable params: 136,332\n",
      "Non-trainable params: 432\n",
      "_________________________________________________________________\n"
     ]
    }
   ],
   "source": [
    "model.summary()"
   ]
  },
  {
   "cell_type": "code",
   "execution_count": null,
   "metadata": {
    "_cell_guid": "05b414a5-7fa6-4004-8bde-e698a2c3974b",
    "_uuid": "8d7dab54-bbd5-4435-87c9-c7d0af59d9e3",
    "execution": {
     "iopub.execute_input": "2023-09-30T04:59:32.398416Z",
     "iopub.status.busy": "2023-09-30T04:59:32.398222Z",
     "iopub.status.idle": "2023-09-30T04:59:32.438504Z"
    },
    "jupyter": {
     "outputs_hidden": false
    }
   },
   "outputs": [
    {
     "name": "stdout",
     "output_type": "stream",
     "text": [
      "[INFO] training network...\n"
     ]
    }
   ],
   "source": [
    "opt = Adam(lr=INIT_LR, decay=INIT_LR / EPOCHS)\n",
    "# distribution\n",
    "model.compile(loss=\"categorical_crossentropy\", optimizer=opt,metrics=[\"accuracy\"])\n",
    "# train the network\n",
    "print(\"[INFO] training network...\")"
   ]
  },
  {
   "cell_type": "code",
   "execution_count": null,
   "metadata": {
    "_cell_guid": "77f60d08-4b3b-4b73-ad7f-7255c82d3c88",
    "_uuid": "50f4ec1b-d2d1-47e0-aded-0689c51ab6a4",
    "execution": {
     "iopub.execute_input": "2023-09-30T04:59:32.439439Z",
     "iopub.status.busy": "2023-09-30T04:59:32.439253Z"
    },
    "jupyter": {
     "outputs_hidden": false
    }
   },
   "outputs": [
    {
     "name": "stdout",
     "output_type": "stream",
     "text": [
      "Epoch 1/50\n",
      "20/20 [==============================] - 96s 5s/step - loss: 1.1990 - acc: 0.4906 - val_loss: 1.1649 - val_acc: 0.5687\n",
      "Epoch 2/50\n",
      "20/20 [==============================] - 95s 5s/step - loss: 0.8493 - acc: 0.6687 - val_loss: 1.1731 - val_acc: 0.4000\n",
      "Epoch 3/50\n",
      "20/20 [==============================] - 95s 5s/step - loss: 0.7884 - acc: 0.7094 - val_loss: 1.4091 - val_acc: 0.4562\n",
      "Epoch 4/50\n",
      "20/20 [==============================] - 95s 5s/step - loss: 0.7413 - acc: 0.7375 - val_loss: 1.1620 - val_acc: 0.5062\n",
      "Epoch 5/50\n",
      "20/20 [==============================] - 95s 5s/step - loss: 0.6286 - acc: 0.8062 - val_loss: 0.8418 - val_acc: 0.6687\n",
      "Epoch 6/50\n",
      "20/20 [==============================] - 94s 5s/step - loss: 0.5300 - acc: 0.8422 - val_loss: 0.6814 - val_acc: 0.7188\n",
      "Epoch 7/50\n",
      "20/20 [==============================] - 94s 5s/step - loss: 0.4631 - acc: 0.8781 - val_loss: 0.8150 - val_acc: 0.6438\n",
      "Epoch 8/50\n",
      "20/20 [==============================] - 94s 5s/step - loss: 0.3989 - acc: 0.9031 - val_loss: 0.8232 - val_acc: 0.6813\n",
      "Epoch 9/50\n",
      "20/20 [==============================] - 94s 5s/step - loss: 0.3827 - acc: 0.9016 - val_loss: 0.6276 - val_acc: 0.7625\n",
      "Epoch 10/50\n",
      "20/20 [==============================] - 95s 5s/step - loss: 0.3556 - acc: 0.9250 - val_loss: 0.8415 - val_acc: 0.6687\n",
      "Epoch 11/50\n",
      "20/20 [==============================] - 95s 5s/step - loss: 0.3597 - acc: 0.9000 - val_loss: 1.3239 - val_acc: 0.5125\n",
      "Epoch 12/50\n",
      "20/20 [==============================] - 95s 5s/step - loss: 0.3449 - acc: 0.8859 - val_loss: 0.7257 - val_acc: 0.7188\n",
      "Epoch 13/50\n",
      "20/20 [==============================] - 95s 5s/step - loss: 0.3051 - acc: 0.9219 - val_loss: 1.1729 - val_acc: 0.5437\n",
      "Epoch 14/50\n",
      "20/20 [==============================] - 94s 5s/step - loss: 0.2957 - acc: 0.9250 - val_loss: 1.2319 - val_acc: 0.5437\n",
      "Epoch 15/50\n",
      "20/20 [==============================] - 93s 5s/step - loss: 0.2811 - acc: 0.9250 - val_loss: 0.8278 - val_acc: 0.6937\n",
      "Epoch 16/50\n",
      "20/20 [==============================] - 93s 5s/step - loss: 0.2690 - acc: 0.9234 - val_loss: 0.8921 - val_acc: 0.6813\n",
      "Epoch 17/50\n",
      "20/20 [==============================] - 94s 5s/step - loss: 0.2884 - acc: 0.9062 - val_loss: 1.4989 - val_acc: 0.4625\n",
      "Epoch 18/50\n",
      " 6/20 [========>.....................] - ETA: 1:01 - loss: 0.2662 - acc: 0.9219"
     ]
    }
   ],
   "source": [
    "history = model.fit_generator(\n",
    "    aug.flow(x_train, y_train, batch_size=BS),\n",
    "    validation_data=(x_test, y_test),\n",
    "    steps_per_epoch=len(x_train) // BS,\n",
    "    epochs=EPOCHS, verbose=1\n",
    "    )"
   ]
  },
  {
   "cell_type": "markdown",
   "metadata": {
    "_cell_guid": "43e07192-c16c-40cf-9a14-363de9273fa1",
    "_uuid": "3526d314-e1fd-4803-8c12-af5652d488c5"
   },
   "source": [
    "Plot the train and val curve"
   ]
  },
  {
   "cell_type": "code",
   "execution_count": null,
   "metadata": {
    "_cell_guid": "e44bd7a1-ff08-4b62-8984-f872c286768e",
    "_uuid": "4988707a-1f7b-4a2b-a4bb-4abffd275fb6",
    "jupyter": {
     "outputs_hidden": false
    }
   },
   "outputs": [],
   "source": [
    "acc = history.history['acc']\n",
    "val_acc = history.history['val_acc']\n",
    "loss = history.history['loss']\n",
    "val_loss = history.history['val_loss']\n",
    "epochs = range(1, len(acc) + 1)\n",
    "#Train and validation accuracy\n",
    "plt.plot(epochs, acc, 'b', label='Training accurarcy')\n",
    "plt.plot(epochs, val_acc, 'r', label='Validation accurarcy')\n",
    "plt.title('Training and Validation accurarcy')\n",
    "plt.legend()\n",
    "\n",
    "plt.figure()\n",
    "#Train and validation loss\n",
    "plt.plot(epochs, loss, 'b', label='Training loss')\n",
    "plt.plot(epochs, val_loss, 'r', label='Validation loss')\n",
    "plt.title('Training and Validation loss')\n",
    "plt.legend()\n",
    "plt.show()"
   ]
  },
  {
   "cell_type": "markdown",
   "metadata": {
    "_cell_guid": "d61d67eb-083c-423e-ad2a-df1020e4567a",
    "_uuid": "1007aeeb-f83e-4816-9ed2-1954ccee22f2"
   },
   "source": [
    "Model Accuracy"
   ]
  },
  {
   "cell_type": "code",
   "execution_count": null,
   "metadata": {
    "_cell_guid": "7251a6bc-5540-4ef0-a6b6-a6efc0d835d2",
    "_uuid": "8c338695-866c-44b2-9485-f0cdc62eae9c",
    "jupyter": {
     "outputs_hidden": false
    }
   },
   "outputs": [],
   "source": [
    "print(\"[INFO] Calculating model accuracy\")\n",
    "scores = model.evaluate(x_test, y_test)\n",
    "print(f\"Test Accuracy: {scores[1]*100}\")"
   ]
  },
  {
   "cell_type": "markdown",
   "metadata": {
    "_cell_guid": "e0c04a9d-3f67-4f91-990d-8682c3ab9ef4",
    "_uuid": "44cc4722-80f6-494a-8550-da9ee4dbf4f2"
   },
   "source": [
    "Save model using Pickle"
   ]
  },
  {
   "cell_type": "code",
   "execution_count": null,
   "metadata": {
    "_cell_guid": "ae5fd14d-dede-4ed6-920f-2fb231e9a3f1",
    "_uuid": "3cd298da-b337-4f3e-861d-850a434cb8da",
    "jupyter": {
     "outputs_hidden": false
    }
   },
   "outputs": [],
   "source": [
    "# save the model to disk\n",
    "print(\"[INFO] Saving model...\")\n",
    "pickle.dump(model,open('cnn_model.pkl', 'wb'))"
   ]
  },
  {
   "cell_type": "code",
   "execution_count": null,
   "metadata": {},
   "outputs": [],
   "source": [
    "model.save(\"leaf.h5\")"
   ]
  },
  {
   "cell_type": "code",
   "execution_count": null,
   "metadata": {},
   "outputs": [],
   "source": [
    "\n",
    "leaf = ['Pepper__bell___Bacterial_spot' ,'Pepper__bell___healthy',\n",
    " 'Potato___Early_blight', 'Potato___Late_blight' ,'Potato___healthy',\n",
    " 'Tomato_Bacterial_spot', 'Tomato_Early_blight', 'Tomato_Late_blight',\n",
    " 'Tomato_Leaf_Mold', 'Tomato_Septoria_leaf_spot',\n",
    " 'Tomato_Spider_mites_Two_spotted_spider_mite' ,'Tomato__Target_Spot',\n",
    " 'Tomato__Tomato_YellowLeaf__Curl_Virus', 'Tomato__Tomato_mosaic_virus',\n",
    " 'Tomato_healthy']\n",
    "\n",
    "  \n",
    "\n"
   ]
  },
  {
   "cell_type": "code",
   "execution_count": null,
   "metadata": {},
   "outputs": [],
   "source": [
    "type(x_test[0])\n",
    "res = model.predict(x_test)\n",
    "for d in res:\n",
    "    print(np.argmax(d))"
   ]
  },
  {
   "cell_type": "code",
   "execution_count": null,
   "metadata": {},
   "outputs": [],
   "source": [
    "import os\n",
    "os.chdir(r'/kaggle/working')"
   ]
  },
  {
   "cell_type": "code",
   "execution_count": null,
   "metadata": {},
   "outputs": [],
   "source": [
    "from IPython.display import FileLink\n",
    "FileLink(r'leaf.h5')"
   ]
  },
  {
   "cell_type": "markdown",
   "metadata": {},
   "source": [
    "Matrix\n",
    "lib\n",
    "epoch\n",
    "training\n",
    "testing\n",
    "algo\n",
    "mo\n",
    "\n"
   ]
  }
 ],
 "metadata": {
  "kernelspec": {
   "display_name": "Python 3 (ipykernel)",
   "language": "python",
   "name": "python3"
  },
  "language_info": {
   "codemirror_mode": {
    "name": "ipython",
    "version": 3
   },
   "file_extension": ".py",
   "mimetype": "text/x-python",
   "name": "python",
   "nbconvert_exporter": "python",
   "pygments_lexer": "ipython3",
   "version": "3.9.13"
  }
 },
 "nbformat": 4,
 "nbformat_minor": 4
}
