{
 "cells": [
  {
   "cell_type": "markdown",
   "metadata": {
    "id": "djHS9sz55aOm"
   },
   "source": [
    "####Import Data"
   ]
  },
  {
   "cell_type": "code",
   "execution_count": 10,
   "metadata": {
    "colab": {
     "base_uri": "https://localhost:8080/"
    },
    "executionInfo": {
     "elapsed": 41314,
     "status": "ok",
     "timestamp": 1680368708012,
     "user": {
      "displayName": "Shawan Das",
      "userId": "12697085418713095865"
     },
     "user_tz": -360
    },
    "id": "xx4_IjVO5Xnv",
    "outputId": "c7307047-4ef7-442d-fdc8-3e3c4e78ec72"
   },
   "outputs": [],
   "source": [
    "import re\n",
    "# from google.colab import drive\n",
    "# drive.mount('/content/drive')"
   ]
  },
  {
   "cell_type": "code",
   "execution_count": 11,
   "metadata": {
    "colab": {
     "base_uri": "https://localhost:8080/"
    },
    "executionInfo": {
     "elapsed": 612,
     "status": "ok",
     "timestamp": 1680379716657,
     "user": {
      "displayName": "Shawan Das",
      "userId": "12697085418713095865"
     },
     "user_tz": -360
    },
    "id": "tqjr7fHd5lMn",
    "outputId": "9cb94f0d-fbe3-434e-fa1d-ba1a13a6b3e9"
   },
   "outputs": [
    {
     "name": "stdout",
     "output_type": "stream",
     "text": [
      "Input Grammar:\n",
      "S -> aSe | B\n",
      "B-> bBCf | C\n",
      "C-> cCg | d | #\n"
     ]
    }
   ],
   "source": [
    "# input_grammar1= '/content/drive/MyDrive/4-2_Semester/CSE 430 Lab/Lab5/test1.txt'\n",
    "# input_grammar2= '/content/drive/MyDrive/4-2_Semester/CSE 430 Lab/Lab5/test2.txt'\n",
    "# input_grammar3= '/content/drive/MyDrive/4-2_Semester/CSE 430 Lab/Lab5/test3.txt'\n",
    "# input_grammar4= '/content/drive/MyDrive/4-2_Semester/CSE 430 Lab/Lab5/test4.txt'\n",
    "# input_grammar5= '/content/drive/MyDrive/4-2_Semester/CSE 430 Lab/Lab5/test5.txt'\n",
    "input_grammar1='input2.txt'\n",
    "\n",
    "input_grammar =open(input_grammar1, 'r')\n",
    "input_grammar= input_grammar.read()\n",
    "print(\"Input Grammar:\")\n",
    "print(input_grammar)"
   ]
  },
  {
   "cell_type": "markdown",
   "metadata": {
    "id": "KXTKCuke7dNu"
   },
   "source": [
    "####Split Data & Production"
   ]
  },
  {
   "cell_type": "code",
   "execution_count": 12,
   "metadata": {
    "colab": {
     "base_uri": "https://localhost:8080/"
    },
    "executionInfo": {
     "elapsed": 392,
     "status": "ok",
     "timestamp": 1680379720626,
     "user": {
      "displayName": "Shawan Das",
      "userId": "12697085418713095865"
     },
     "user_tz": -360
    },
    "id": "pGNN1Dxa7b4d",
    "outputId": "ca21343c-5f58-4709-a8fd-113a108e78d2"
   },
   "outputs": [
    {
     "name": "stdout",
     "output_type": "stream",
     "text": [
      "[['S ', ' aSe | B'], ['B', ' bBCf | C'], ['C', ' cCg | d | #']]\n"
     ]
    }
   ],
   "source": [
    "data= input_grammar.split('\\n')\n",
    "for i in range(len(data)):\n",
    "  data[i]= data[i].split('->')\n",
    "print(data)"
   ]
  },
  {
   "cell_type": "code",
   "execution_count": 15,
   "metadata": {
    "executionInfo": {
     "elapsed": 3,
     "status": "ok",
     "timestamp": 1680379720991,
     "user": {
      "displayName": "Shawan Das",
      "userId": "12697085418713095865"
     },
     "user_tz": -360
    },
    "id": "pf4CeD2a8k0d"
   },
   "outputs": [],
   "source": [
    "production={}  # All production\n",
    "first={}       # First of terminal\n",
    "follow={}      # follow of production"
   ]
  },
  {
   "cell_type": "code",
   "execution_count": 20,
   "metadata": {
    "colab": {
     "base_uri": "https://localhost:8080/"
    },
    "executionInfo": {
     "elapsed": 3,
     "status": "ok",
     "timestamp": 1680379720991,
     "user": {
      "displayName": "Shawan Das",
      "userId": "12697085418713095865"
     },
     "user_tz": -360
    },
    "id": "fxkcUAkB-jqd",
    "outputId": "64e4f07a-3c8f-4e1c-f796-ab651f9beeca"
   },
   "outputs": [
    {
     "data": {
      "text/plain": [
       "{'S ': [' aSe ', ' B'], 'B': [' bBCf ', ' C'], 'C': [' cCg ', ' d ', ' #']}"
      ]
     },
     "execution_count": 20,
     "metadata": {},
     "output_type": "execute_result"
    }
   ],
   "source": [
    "for d in data:\n",
    "  production[d[0]]= d[1].split('|')\n",
    "production\n",
    "# for d in data:\n",
    "#     if len(d) >= 2:\n",
    "#         production[d[0]] = d[1].split('|')\n",
    "#     else:\n",
    "#         print(f\"Issue with data element: {d}\")\n"
   ]
  },
  {
   "cell_type": "markdown",
   "metadata": {
    "id": "G_zIO_v1Didw"
   },
   "source": [
    "### First of productions"
   ]
  },
  {
   "cell_type": "code",
   "execution_count": 21,
   "metadata": {
    "executionInfo": {
     "elapsed": 342,
     "status": "ok",
     "timestamp": 1680379927715,
     "user": {
      "displayName": "Shawan Das",
      "userId": "12697085418713095865"
     },
     "user_tz": -360
    },
    "id": "GH52c7CVDoC9"
   },
   "outputs": [],
   "source": [
    "def First(node):\n",
    "  first_Set = set()\n",
    "  # set() is used for storing multiple item into a single variable.                \n",
    "  #iterating in production dictionary\n",
    "  for i in range(len(production[node])):\n",
    "    for j in range(len(production[node][i])):\n",
    "      c = production[node][i][j]  #store all in c\n",
    "      \n",
    "      if c.isupper(): #Chek Non-Terminal\n",
    "        f = First(c)\n",
    "\n",
    "        if('∈' not in f):\n",
    "          for k in f:\n",
    "            first_Set.add(k)\n",
    "            break\n",
    "\n",
    "        elif(j == len(production[node][i])-1):\n",
    "            for k in f:\n",
    "              first_Set.add(k)\n",
    "        else:\n",
    "          f.remove('∈')\n",
    "          for k in f:\n",
    "            first_Set.add(k) \n",
    "\n",
    "      else:\n",
    "        first_Set.add(c)\n",
    "        break \n",
    "\n",
    "  return first_Set"
   ]
  },
  {
   "cell_type": "markdown",
   "metadata": {
    "id": "wQ5IKQedM1Dr"
   },
   "source": [
    "### Follow of productions"
   ]
  },
  {
   "cell_type": "code",
   "execution_count": 22,
   "metadata": {
    "executionInfo": {
     "elapsed": 352,
     "status": "ok",
     "timestamp": 1680379930076,
     "user": {
      "displayName": "Shawan Das",
      "userId": "12697085418713095865"
     },
     "user_tz": -360
    },
    "id": "_BDXzD_uR-IJ"
   },
   "outputs": [],
   "source": [
    "def Follow(s):\n",
    "  follow = set()\n",
    "  #if length of the \n",
    "  if len(s)!=1 :\n",
    "    return {}\n",
    "  if(s == list(production.keys())[0]): #in start we add $ intially\n",
    "    follow.add('$')  #dollar sign is used for the non terminal same values\n",
    "\n",
    "  # iterating in production dictionary\n",
    "  for i in production:\n",
    "    for j in range(len(production[i])):\n",
    "      if(s in production[i][j]):\n",
    "        idx = production[i][j].index(s) #here,idx is used to keep the keys or index mapping of dictionary.\n",
    "                \n",
    "        #if index value of product and current value matches break\n",
    "        if(idx == len(production[i][j])-1):\n",
    "          if(production[i][j][idx] == i):\n",
    "            break\n",
    "\n",
    "          #else recursive function to find the follow of ith index value\n",
    "          else:\n",
    "            f = Follow(i)\n",
    "            for x in f:\n",
    "              follow.add(x) #add them in follow function\n",
    "\n",
    "        #if there is not yet at the last index\n",
    "        else:\n",
    "          while(idx != len(production[i][j]) - 1):\n",
    "            idx += 1\n",
    "            if(not production[i][j][idx].isupper()):\n",
    "              follow.add(production[i][j][idx])\n",
    "              break\n",
    "            #calculating first of the rightmost empty variable\n",
    "            else:\n",
    "              f = First(production[i][j][idx])\n",
    "                            \n",
    "              #if we find a non terminal value\n",
    "              if('∈' not in f):\n",
    "                for x in f:\n",
    "                  follow.add(x)\n",
    "                break\n",
    "              #else if there is a epsilon\n",
    "              elif('∈' in f and idx != len(production[i][j])-1):\n",
    "                f.remove('∈')\n",
    "                for k in f:\n",
    "                  follow.add(k)\n",
    "                            \n",
    "              elif('∈' in f and idx == len(production[i][j])-1):\n",
    "                f.remove('∈')\n",
    "                for k in f:\n",
    "                  follow.add(k)\n",
    "                #recursive function to the add the follows\n",
    "                f = Follow(i)\n",
    "                for x in f:\n",
    "                  follow.add(x)\n",
    "                            \n",
    "  return follow"
   ]
  },
  {
   "cell_type": "markdown",
   "metadata": {
    "id": "B8dAjkfucpw7"
   },
   "source": [
    "### First & Follow"
   ]
  },
  {
   "cell_type": "code",
   "execution_count": 23,
   "metadata": {
    "colab": {
     "base_uri": "https://localhost:8080/"
    },
    "executionInfo": {
     "elapsed": 336,
     "status": "ok",
     "timestamp": 1680379934315,
     "user": {
      "displayName": "Shawan Das",
      "userId": "12697085418713095865"
     },
     "user_tz": -360
    },
    "id": "IX1z0uIgIuEF",
    "outputId": "4db3a5f3-4352-4890-d960-5c7459834ed9"
   },
   "outputs": [
    {
     "name": "stdout",
     "output_type": "stream",
     "text": [
      "First :\n",
      "S  : [' ']\n",
      "B : [' ']\n",
      "C : [' ']\n"
     ]
    }
   ],
   "source": [
    "print(\"First :\")\n",
    "for terminal in production.keys():\n",
    "  first[terminal]= list(First(terminal))\n",
    "  first[terminal].sort()\n",
    "\n",
    "for k in first.keys():\n",
    "  print(k, \":\", first[k])"
   ]
  },
  {
   "cell_type": "code",
   "execution_count": 24,
   "metadata": {
    "colab": {
     "base_uri": "https://localhost:8080/"
    },
    "executionInfo": {
     "elapsed": 1,
     "status": "ok",
     "timestamp": 1680379934654,
     "user": {
      "displayName": "Shawan Das",
      "userId": "12697085418713095865"
     },
     "user_tz": -360
    },
    "id": "QWHTwVqnNN6t",
    "outputId": "2fc42f0b-c54b-48e8-9b85-ccdfe37bb21c"
   },
   "outputs": [
    {
     "name": "stdout",
     "output_type": "stream",
     "text": [
      "Follow :\n",
      "S  : []\n",
      "B : [' ']\n",
      "C : [' ', 'f', 'g']\n"
     ]
    }
   ],
   "source": [
    "print(\"Follow :\")\n",
    "for terminal in production.keys():\n",
    "  follow[terminal]=list(Follow(terminal))\n",
    "  follow[terminal].sort()\n",
    "\n",
    "for k in follow.keys():\n",
    "    \n",
    "  print(k, \":\", follow[k])  "
   ]
  },
  {
   "cell_type": "code",
   "execution_count": null,
   "metadata": {},
   "outputs": [],
   "source": []
  }
 ],
 "metadata": {
  "colab": {
   "authorship_tag": "ABX9TyOCV778wa5a1kYpKjMRgFE6",
   "provenance": []
  },
  "kernelspec": {
   "display_name": "Python 3 (ipykernel)",
   "language": "python",
   "name": "python3"
  },
  "language_info": {
   "codemirror_mode": {
    "name": "ipython",
    "version": 3
   },
   "file_extension": ".py",
   "mimetype": "text/x-python",
   "name": "python",
   "nbconvert_exporter": "python",
   "pygments_lexer": "ipython3",
   "version": "3.9.13"
  }
 },
 "nbformat": 4,
 "nbformat_minor": 1
}
