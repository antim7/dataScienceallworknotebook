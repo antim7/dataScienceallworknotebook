{
 "cells": [
  {
   "cell_type": "markdown",
   "metadata": {
    "id": "e2dGg55Ece1_"
   },
   "source": [
    "CSE 430: Compiler Design Lab\n",
    "\n",
    "**Lab Problem 3: First and Follow Function**\n",
    "\n",
    "-> The construction of a predictive parser is aided by two functions associated with a grammar G. These functions, FIRST and FOLLOW, allow us to fill in the entries of a predictive parsing table for G, whenever possible. First and Follow sets are needed so that the parser can properly apply the needed production rule at the correct position.\n",
    "\n",
    "** FIRST(α): First(α) is a set of terminal symbols that begin in strings derived from α. It has three rules:\n",
    "\n",
    "(1) If FIRST (α) is the set of terminals that begin the strings derived from α.\n",
    "\n",
    "(2) If α -> ∈, then ∈, is also in FIRST (α).\n",
    "\n",
    "(3) If FIRST (α) is the set of non-terminals.\n",
    "\n",
    "** FOLLOW (A): FOLLOW (A), for nonterminal A, to be the set of terminals that can appear immediately to the right of A in some sentential form. That is, the set of terminals such that there exists a derivation of the form S -> aAαβ for some α and β. It has also three rule:\n",
    "\n",
    "(1) Place dollar sign in FOLLOW(S), where S is the start symbol and dollar sign is the input right end marker.\n",
    "\n",
    "(2) If there is a production A -> αBβ, then everything in FIRST (β), except for ∈, is placed in FOLLOW (B).\n",
    "\n",
    "(3) If there is a production A -> αB, or a production A -> aBβ where FIRST (β) contains e (i.e., β -> ∈),"
   ]
  },
  {
   "cell_type": "markdown",
   "metadata": {
    "id": "AZUQW2rv4Cc7"
   },
   "source": [
    "# Let's start coding from here"
   ]
  },
  {
   "cell_type": "markdown",
   "metadata": {
    "id": "y3HW7ATQ4SGo"
   },
   "source": [
    "## Import library"
   ]
  },
  {
   "cell_type": "code",
   "execution_count": 1,
   "metadata": {
    "id": "Q1LKsxxO_j9L"
   },
   "outputs": [],
   "source": [
    "import re #import module for regular expression"
   ]
  },
  {
   "cell_type": "markdown",
   "metadata": {
    "id": "TRqGRUdw4Vs0"
   },
   "source": [
    "## Take input from user through file"
   ]
  },
  {
   "cell_type": "code",
   "execution_count": 2,
   "metadata": {
    "colab": {
     "base_uri": "https://localhost:8080/"
    },
    "id": "KeukcmX6382X",
    "outputId": "a30132eb-5623-4b31-f5f7-083c99af8809"
   },
   "outputs": [
    {
     "data": {
      "text/plain": [
       "<_io.TextIOWrapper name='input2.txt' mode='r' encoding='cp1252'>"
      ]
     },
     "execution_count": 2,
     "metadata": {},
     "output_type": "execute_result"
    }
   ],
   "source": [
    "grammar = open(\"input2.txt\", \"r\")\n",
    "grammar"
   ]
  },
  {
   "cell_type": "markdown",
   "metadata": {
    "id": "Jjqox1QV5jlj"
   },
   "source": [
    "## Declare some necessary variable"
   ]
  },
  {
   "cell_type": "code",
   "execution_count": 3,
   "metadata": {
    "id": "vDgfe2xh5nPy"
   },
   "outputs": [],
   "source": [
    "productions = {}\n",
    "first_dic = {}\n",
    "follow_dic = {}"
   ]
  },
  {
   "cell_type": "markdown",
   "metadata": {
    "id": "eO0p8xpI5qD2"
   },
   "source": [
    "## Extract data from file which is grammar variable"
   ]
  },
  {
   "cell_type": "code",
   "execution_count": 4,
   "metadata": {
    "colab": {
     "base_uri": "https://localhost:8080/"
    },
    "id": "VfSHVehd6QVo",
    "outputId": "66857332-037b-47b9-f640-decbf730fcb6"
   },
   "outputs": [
    {
     "name": "stdout",
     "output_type": "stream",
     "text": [
      "l:  ['', None, 'S', None, ' ', None, '-', None, '>', None, ' ', None, 'a', None, 'S', None, 'e', None, ' ', None, '|', None, ' ', None, 'B', None, '\\n', None, '']\n",
      "m:  ['S', 'a', 'S', 'e', '|', 'B']\n",
      "productions:  {'S': [['a', 'S', 'e'], ['B']]}\n",
      "l:  ['', None, 'B', None, ' ', None, '-', None, '>', None, ' ', None, 'b', None, 'B', None, 'C', None, 'f', None, ' ', None, '|', None, ' ', None, 'C', None, '\\n', None, '']\n",
      "m:  ['B', 'b', 'B', 'C', 'f', '|', 'C']\n",
      "productions:  {'S': [['a', 'S', 'e'], ['B']], 'B': [['b', 'B', 'C', 'f'], ['C']]}\n",
      "l:  ['', None, 'C', None, ' ', None, '-', None, '>', None, ' ', None, 'c', None, 'C', None, 'g', None, ' ', None, '|', None, ' ', None, 'd', None, ' ', None, '|', None, ' ', None, '#', None, '']\n",
      "m:  ['C', 'c', 'C', 'g', '|', 'd', '|', '#']\n",
      "productions:  {'S': [['a', 'S', 'e'], ['B']], 'B': [['b', 'B', 'C', 'f'], ['C']], 'C': [['c', 'C', 'g'], ['d'], ['#']]}\n"
     ]
    }
   ],
   "source": [
    "for prod in grammar:\n",
    "  l = re.split(\"( /->/\\n/)*\", prod)\n",
    "  print('l: ', l)\n",
    "  m = []\n",
    "  for i in l:\n",
    "    if (i == \"\" or i == None or i == '\\n' or i == \" \" or i == \"-\" or i == \">\"):  #checking the splitation and enter is pressed or -> is found\n",
    "      pass\n",
    "    else:\n",
    "      m.append(i)\n",
    "  print('m: ', m)\n",
    "        \n",
    "  left_prod = m.pop(0)\n",
    "  right_prod = []\n",
    "  t = []\n",
    "  # taking input the values after |\n",
    "  for j in m:\n",
    "    if(j != '|'):\n",
    "      t.append(j)\n",
    "    else:\n",
    "      right_prod.append(t)\n",
    "      t = []\n",
    "        \n",
    "  right_prod.append(t)\n",
    "  productions[left_prod] = right_prod\n",
    "  print('productions: ', productions)"
   ]
  },
  {
   "cell_type": "code",
   "execution_count": 5,
   "metadata": {
    "colab": {
     "base_uri": "https://localhost:8080/"
    },
    "id": "cCnElZBC7KHZ",
    "outputId": "8758d055-ecbf-481b-b1a1-8a6c1337baf8"
   },
   "outputs": [
    {
     "data": {
      "text/plain": [
       "{'S': [['a', 'S', 'e'], ['B']],\n",
       " 'B': [['b', 'B', 'C', 'f'], ['C']],\n",
       " 'C': [['c', 'C', 'g'], ['d'], ['#']]}"
      ]
     },
     "execution_count": 5,
     "metadata": {},
     "output_type": "execute_result"
    }
   ],
   "source": [
    "productions"
   ]
  },
  {
   "cell_type": "markdown",
   "metadata": {
    "id": "s226G6_27s1L"
   },
   "source": [
    "## Create a function for generate First"
   ]
  },
  {
   "cell_type": "code",
   "execution_count": 6,
   "metadata": {
    "id": "kAPbrHdH7wJa"
   },
   "outputs": [],
   "source": [
    "def first_func(s, productions):\n",
    "  first = set()\n",
    "  # set() is used for storing multiple item into a single variable.                \n",
    "  #iterating in production dictionary\n",
    "  for i in range(len(productions[s])):\n",
    "    for j in range(len(productions[s][i])):\n",
    "      c = productions[s][i][j]  #store all in c\n",
    "      #if the variable is found then\n",
    "      if(c.isupper()): #here, upper means any capital letter\n",
    "        f = first_func(c, productions)\n",
    "        #if no epsilon is present in f\n",
    "        if('#' not in f):\n",
    "          for k in f:\n",
    "            first.add(k)\n",
    "            break\n",
    "        else:\n",
    "          if(j == len(productions[s][i])-1):\n",
    "            for k in f:\n",
    "              first.add(k)\n",
    "          else:\n",
    "            f.remove('#')\n",
    "            for k in f:\n",
    "              first.add(k)               \n",
    "      else:\n",
    "        first.add(c)\n",
    "        break            \n",
    "  return first"
   ]
  },
  {
   "cell_type": "markdown",
   "metadata": {
    "id": "qJtDGLgI8YlE"
   },
   "source": [
    "## Create a function for generate Follow"
   ]
  },
  {
   "cell_type": "code",
   "execution_count": 7,
   "metadata": {
    "id": "PixLWyhc8am3"
   },
   "outputs": [],
   "source": [
    "#follow is a dict for keeping follow elements of cfg\n",
    "#productions is the dictionary for holding the grammar\n",
    "#follow function\n",
    "def follow_func(s, productions, first):\n",
    "  follow = set()\n",
    "  #if length of the \n",
    "  if len(s)!=1 :\n",
    "    return {}\n",
    "  if(s == list(productions.keys())[0]): #in start we add $ intially\n",
    "    follow.add('$')  #dollar sign is used for the non terminal same values\n",
    "\n",
    "  # iterating in production dictionary\n",
    "  for i in productions:\n",
    "    for j in range(len(productions[i])):\n",
    "      if(s in productions[i][j]):\n",
    "        idx = productions[i][j].index(s) #here,idx is used to keep the keys or index mapping of dictionary.\n",
    "                \n",
    "        #if index value of product and current value matches break\n",
    "        if(idx == len(productions[i][j])-1):\n",
    "          if(productions[i][j][idx] == i):\n",
    "            break\n",
    "\n",
    "          #else recursive function to find the follow of ith index value\n",
    "          else:\n",
    "            f = follow_func(i, productions, first)\n",
    "            for x in f:\n",
    "              follow.add(x) #add them in follow function\n",
    "\n",
    "        #if there is not yet at the last index\n",
    "        else:\n",
    "          while(idx != len(productions[i][j]) - 1):\n",
    "            idx += 1\n",
    "            if(not productions[i][j][idx].isupper()):\n",
    "              follow.add(productions[i][j][idx])\n",
    "              break\n",
    "            #calculating first of the rightmost empty variable\n",
    "            else:\n",
    "              f = first_func(productions[i][j][idx], productions)\n",
    "                            \n",
    "              #if we find a non terminal value\n",
    "              if('#' not in f):\n",
    "                for x in f:\n",
    "                  follow.add(x)\n",
    "                break\n",
    "              #else if there is a epsilon\n",
    "              elif('#' in f and idx != len(productions[i][j])-1):\n",
    "                f.remove('#')\n",
    "                for k in f:\n",
    "                  follow.add(k)\n",
    "                            \n",
    "              elif('#' in f and idx == len(productions[i][j])-1):\n",
    "                f.remove('#')\n",
    "                for k in f:\n",
    "                  follow.add(k)\n",
    "                #recursive function to the add the follows\n",
    "                f = follow_func(i, productions, first)\n",
    "                for x in f:\n",
    "                  follow.add(x)\n",
    "                            \n",
    "  return follow"
   ]
  },
  {
   "cell_type": "markdown",
   "metadata": {
    "id": "O0HR8KHv-_-r"
   },
   "source": [
    "## Call the first function to generate first"
   ]
  },
  {
   "cell_type": "code",
   "execution_count": 8,
   "metadata": {
    "id": "wx7Odzbs_Dts"
   },
   "outputs": [],
   "source": [
    "for s in productions.keys(): # s denotes the keys of the dictionary such as E ,T ,R, F etc\n",
    "  first_dic[s] = first_func(s, productions)"
   ]
  },
  {
   "cell_type": "markdown",
   "metadata": {
    "id": "f_wxTzIU_WdZ"
   },
   "source": [
    "## Print the first for our context free grammar"
   ]
  },
  {
   "cell_type": "code",
   "execution_count": 9,
   "metadata": {
    "colab": {
     "base_uri": "https://localhost:8080/"
    },
    "id": "TaPpEYzr_b7I",
    "outputId": "3be8e4b6-1aac-4943-b369-5fc15e70217b"
   },
   "outputs": [
    {
     "name": "stdout",
     "output_type": "stream",
     "text": [
      "FIRST:\n",
      "S : {'d', 'b', 'c', 'a', '#'}\n",
      "B : {'c', '#', 'd', 'b'}\n",
      "C : {'c', '#', 'd'}\n",
      "\n"
     ]
    }
   ],
   "source": [
    "print(\"FIRST:\")\n",
    "for lhs, rhs in first_dic.items():\n",
    "  print(lhs, \":\" , rhs)    \n",
    "print(\"\")"
   ]
  },
  {
   "cell_type": "markdown",
   "metadata": {
    "id": "duHLD9xr_8Eh"
   },
   "source": [
    "## Call the follow function to generate follow"
   ]
  },
  {
   "cell_type": "code",
   "execution_count": 10,
   "metadata": {
    "id": "3X-Oyl3I__QZ"
   },
   "outputs": [],
   "source": [
    "for lhs in productions:\n",
    "  follow_dic[lhs] = set()\n",
    "    \n",
    "for s in productions.keys():\n",
    "  follow_dic[s] = follow_func(s, productions, first_dic)"
   ]
  },
  {
   "cell_type": "markdown",
   "metadata": {
    "id": "IEQ7HCXRAX5c"
   },
   "source": [
    "## Print the follow for our context free grammar"
   ]
  },
  {
   "cell_type": "code",
   "execution_count": 11,
   "metadata": {
    "colab": {
     "base_uri": "https://localhost:8080/"
    },
    "id": "BwzyWTG_AYk7",
    "outputId": "c08fb9d5-37d3-42ce-e5ad-1bd96df05fc6"
   },
   "outputs": [
    {
     "name": "stdout",
     "output_type": "stream",
     "text": [
      "FOLLOW:\n",
      "S : {'e', '$'}\n",
      "B : {'d', 'c', 'f', '$', 'e'}\n",
      "C : {'d', 'g', 'f', 'c', '$', 'e'}\n"
     ]
    }
   ],
   "source": [
    "print(\"FOLLOW:\")\n",
    "for lhs, rhs in follow_dic.items():\n",
    "  print(lhs, \":\" , rhs)"
   ]
  },
  {
   "cell_type": "markdown",
   "metadata": {
    "id": "lIOTIhMGAoXz"
   },
   "source": [
    "## Close the grammar file"
   ]
  },
  {
   "cell_type": "code",
   "execution_count": 12,
   "metadata": {
    "id": "_qc8HJrbAqbK"
   },
   "outputs": [],
   "source": [
    "grammar.close()"
   ]
  }
 ],
 "metadata": {
  "colab": {
   "provenance": []
  },
  "kernelspec": {
   "display_name": "Python 3 (ipykernel)",
   "language": "python",
   "name": "python3"
  },
  "language_info": {
   "codemirror_mode": {
    "name": "ipython",
    "version": 3
   },
   "file_extension": ".py",
   "mimetype": "text/x-python",
   "name": "python",
   "nbconvert_exporter": "python",
   "pygments_lexer": "ipython3",
   "version": "3.9.13"
  }
 },
 "nbformat": 4,
 "nbformat_minor": 1
}
