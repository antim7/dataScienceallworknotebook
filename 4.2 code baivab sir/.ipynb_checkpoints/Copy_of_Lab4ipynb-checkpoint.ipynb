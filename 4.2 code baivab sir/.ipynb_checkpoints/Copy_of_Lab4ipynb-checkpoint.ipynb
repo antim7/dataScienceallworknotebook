{
 "cells": [
  {
   "cell_type": "code",
   "execution_count": null,
   "metadata": {
    "colab": {
     "base_uri": "https://localhost:8080/"
    },
    "id": "1mOc_y_ZsSHk",
    "outputId": "0ad0493f-37b4-420d-af42-b934dfeca48c"
   },
   "outputs": [
    {
     "name": "stdout",
     "output_type": "stream",
     "text": [
      "Mounted at /content/drive\n"
     ]
    }
   ],
   "source": [
    "from google.colab import drive\n",
    "drive.mount('/content/drive')"
   ]
  },
  {
   "cell_type": "code",
   "execution_count": null,
   "metadata": {
    "id": "hyHDLNLCNu6b"
   },
   "outputs": [],
   "source": [
    "input_grammar= '/content/drive/MyDrive/4-2_Semester/CSE 430 Lab/Lab4/input.txt'\n",
    "input_grammar =open(input_grammar, 'r')\n",
    "input_grammar= input_grammar.read()"
   ]
  },
  {
   "cell_type": "code",
   "execution_count": null,
   "metadata": {
    "colab": {
     "base_uri": "https://localhost:8080/"
    },
    "id": "ImO8VM-X8FHZ",
    "outputId": "ea440aec-e4a4-45b8-f746-6947bf705660"
   },
   "outputs": [
    {
     "name": "stdout",
     "output_type": "stream",
     "text": [
      "Q-> QED|q\n",
      "E->e\n",
      "D->NFA|d\n",
      "N->DFA|n\n",
      "F->f\n",
      "A->a\n",
      "\n"
     ]
    }
   ],
   "source": [
    "print(input_grammar)"
   ]
  },
  {
   "cell_type": "code",
   "execution_count": null,
   "metadata": {
    "id": "2KvuCco4wiBh"
   },
   "outputs": [],
   "source": [
    "def eliminate_left_recursion(grammar, productions, non_terminals):\n",
    "    text = non_terminals[0]\n",
    "\n",
    "    alpha_prod = []\n",
    "    beta_prod = []\n",
    "\n",
    "    for production in productions:\n",
    "        if production[0] == text:\n",
    "            alpha_prod.append(production[1:])\n",
    "        else:\n",
    "            beta_prod.append(production)\n",
    "\n",
    "    textP = text + \"'\"\n",
    "\n",
    "    grammar[text] = [beta + textP for beta in beta_prod]\n",
    "    grammar[textP] = [alpha + textP for alpha in alpha_prod] + ['empty']\n",
    "\n",
    "    return grammar"
   ]
  },
  {
   "cell_type": "code",
   "execution_count": null,
   "metadata": {
    "colab": {
     "base_uri": "https://localhost:8080/"
    },
    "id": "8YO19TPwKluN",
    "outputId": "1dc41a6d-194d-44fa-d939-d30b4f6d8337"
   },
   "outputs": [
    {
     "name": "stdout",
     "output_type": "stream",
     "text": [
      "Q -> a\n",
      "Q'\n",
      "Q' -> empty\n"
     ]
    }
   ],
   "source": [
    "ig = input_grammar\n",
    "non_terminals = [input_grammar[0]]\n",
    "for i in range(len(ig)):  # ig -> main text\n",
    "  if input_grammar[i].isupper() and input_grammar[i] not in non_terminals:\n",
    "      non_terminals.append(input_grammar[i])\n",
    "for i in range(len(ig)):  # ig -> main text\n",
    "  if input_grammar[i] == '>':\n",
    "      productions = input_grammar[i+1:]\n",
    "\n",
    "productions = productions.split('|')\n",
    "\n",
    "grammar = {\n",
    "  non_terminals[0]: productions\n",
    "}\n",
    "\n",
    "output = eliminate_left_recursion(grammar, productions, non_terminals)\n",
    "\n",
    "for key, value in output.items():\n",
    "  print(f\"{key} -> \", end='')\n",
    "  for i in range(len(value)):\n",
    "      if i == 0:\n",
    "          print(value[i], end='')\n",
    "      else:\n",
    "          print(f\"| {value[i]}\", end='')\n",
    "  print()"
   ]
  }
 ],
 "metadata": {
  "colab": {
   "provenance": []
  },
  "kernelspec": {
   "display_name": "Python 3 (ipykernel)",
   "language": "python",
   "name": "python3"
  },
  "language_info": {
   "codemirror_mode": {
    "name": "ipython",
    "version": 3
   },
   "file_extension": ".py",
   "mimetype": "text/x-python",
   "name": "python",
   "nbconvert_exporter": "python",
   "pygments_lexer": "ipython3",
   "version": "3.9.13"
  }
 },
 "nbformat": 4,
 "nbformat_minor": 1
}
