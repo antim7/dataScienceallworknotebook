{
 "cells": [
  {
   "cell_type": "code",
   "execution_count": 1,
   "id": "c90406e8",
   "metadata": {},
   "outputs": [],
   "source": [
    "import cv2"
   ]
  },
  {
   "cell_type": "code",
   "execution_count": 2,
   "id": "3d08e923",
   "metadata": {},
   "outputs": [
    {
     "name": "stdout",
     "output_type": "stream",
     "text": [
      "(698, 606, 3)\n",
      "Image Read Value:[[[241 241 235]\n",
      "  [241 241 235]\n",
      "  [241 241 235]\n",
      "  ...\n",
      "  [199 210 218]\n",
      "  [199 210 218]\n",
      "  [199 210 218]]\n",
      "\n",
      " [[241 241 235]\n",
      "  [241 241 235]\n",
      "  [241 241 235]\n",
      "  ...\n",
      "  [199 210 218]\n",
      "  [199 210 218]\n",
      "  [199 210 218]]\n",
      "\n",
      " [[241 240 236]\n",
      "  [241 240 236]\n",
      "  [241 240 236]\n",
      "  ...\n",
      "  [199 211 217]\n",
      "  [199 210 218]\n",
      "  [199 210 218]]\n",
      "\n",
      " ...\n",
      "\n",
      " [[248 242 237]\n",
      "  [248 242 237]\n",
      "  [249 243 238]\n",
      "  ...\n",
      "  [178 204 216]\n",
      "  [181 206 216]\n",
      "  [184 206 217]]\n",
      "\n",
      " [[251 242 238]\n",
      "  [251 242 238]\n",
      "  [251 242 238]\n",
      "  ...\n",
      "  [179 205 217]\n",
      "  [182 207 217]\n",
      "  [182 207 217]]\n",
      "\n",
      " [[252 243 239]\n",
      "  [252 243 239]\n",
      "  [252 243 239]\n",
      "  ...\n",
      "  [179 205 217]\n",
      "  [182 207 217]\n",
      "  [182 207 217]]]\n"
     ]
    }
   ],
   "source": [
    "image = cv2.imread(\"Cats.jpg\")\n",
    "print(image.shape)\n",
    "print(f\"Image Read Value:{image}\")"
   ]
  },
  {
   "cell_type": "code",
   "execution_count": 3,
   "id": "a6d4323b",
   "metadata": {},
   "outputs": [
    {
     "name": "stdout",
     "output_type": "stream",
     "text": [
      "Image Hight is : 698\n",
      "Image width is : 606\n",
      "Image color channel is : 3\n"
     ]
    }
   ],
   "source": [
    "image_hight, image_width, color_channel = image.shape\n",
    "print(f\"Image Hight is : {image_hight}\")\n",
    "print(f\"Image width is : {image_width}\")\n",
    "print(f\"Image color channel is : {color_channel}\")"
   ]
  },
  {
   "cell_type": "code",
   "execution_count": 8,
   "id": "39e87d5b",
   "metadata": {},
   "outputs": [],
   "source": [
    "# import cv2\n",
    "# image = cv2.imread(\"ss.jpg\")\n",
    "# image_hight, image_width, color_channel = image.shape\n",
    "for y in range(image_hight):\n",
    "    for x in range(image_width):\n",
    "        input_pixel = image[y, x]\n",
    "        image[y, x] = [255 - input_pixel[0], 255 - input_pixel[1], 255 - input_pixel[2]]\n",
    "\n",
    "cv2.imwrite(\"ManipulatedImage.jpg\", image)\n",
    "cv2.imshow(\"Manipulated Image\", image)"
   ]
  },
  {
   "cell_type": "code",
   "execution_count": 4,
   "id": "220ecf2e",
   "metadata": {},
   "outputs": [],
   "source": [
    "image = cv2.imread(\"cats4.jpg\")\n",
    "image_hight, image_width, color_channel = image.shape\n",
    "for y in range(image_hight):\n",
    "    for x in range(image_width):\n",
    "        input_pixel = image[y, x]\n",
    "        image[y, x] = [255 - input_pixel[0], 255 - input_pixel[1], 255 - input_pixel[2]]\n",
    "\n",
    "cv2.imwrite(\"ManipulatedImageCat.jpg\", image)\n",
    "cv2.imshow(\"Manipulated Image\", image)\n",
    "cv2.waitKey(0)\n",
    "cv2.destroyAllWindows()"
   ]
  },
  {
   "cell_type": "code",
   "execution_count": 7,
   "id": "cae3a7d3",
   "metadata": {},
   "outputs": [],
   "source": [
    "image = cv2.imread(\"Cat.jpg\")\n",
    "image_hight, image_width, color_channel = image.shape\n",
    "for y in range(image_hight):\n",
    "    for x in range(image_width):\n",
    "        input_pixel = image[y, x]\n",
    "        image[y, x] = [255 - input_pixel[0], 255 - input_pixel[1], 255 - input_pixel[2]]\n",
    "\n",
    "cv2.imwrite(\"ManipulatedImageCat1.jpg\", image)\n",
    "cv2.imshow(\"Manipulated Image\", image)\n",
    "cv2.waitKey(0)\n",
    "cv2.destroyAllWindows()"
   ]
  },
  {
   "cell_type": "code",
   "execution_count": null,
   "id": "5fbe4d42",
   "metadata": {},
   "outputs": [],
   "source": []
  },
  {
   "cell_type": "code",
   "execution_count": null,
   "id": "4a98c5b5",
   "metadata": {},
   "outputs": [],
   "source": []
  }
 ],
 "metadata": {
  "kernelspec": {
   "display_name": "Python 3 (ipykernel)",
   "language": "python",
   "name": "python3"
  },
  "language_info": {
   "codemirror_mode": {
    "name": "ipython",
    "version": 3
   },
   "file_extension": ".py",
   "mimetype": "text/x-python",
   "name": "python",
   "nbconvert_exporter": "python",
   "pygments_lexer": "ipython3",
   "version": "3.9.13"
  }
 },
 "nbformat": 4,
 "nbformat_minor": 5
}
